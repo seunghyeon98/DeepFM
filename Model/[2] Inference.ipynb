{
 "cells": [
  {
   "cell_type": "code",
   "execution_count": null,
   "metadata": {},
   "outputs": [],
   "source": [
    "import torch\n",
    "from sklearn.metrics import accuracy_score\n",
    "from sklearn.preprocessing import LabelEncoder\n",
    "from deepctr_torch.inputs import SparseFeat, get_feature_names\n",
    "from deepctr_torch.models import DeepFM\n",
    "import numpy as np\n",
    "import ast\n",
    "import pandas as pd\n",
    "import warnings\n",
    "\n",
    "# Ignore all warnings\n",
    "warnings.filterwarnings(\"ignore\")"
   ]
  },
  {
   "cell_type": "code",
   "execution_count": null,
   "metadata": {},
   "outputs": [],
   "source": [
    "# load test set\n",
    "\n",
    "test_set = pd.read_csv('')"
   ]
  },
  {
   "cell_type": "code",
   "execution_count": null,
   "metadata": {},
   "outputs": [],
   "source": [
    "# load label_encoder\n",
    "label_encoders = torch.load(r'E:\\VOD추천 프로젝트 데이터\\GoogleCloud_DATA\\LabelEncoders\\label_encoders_1211.pth')"
   ]
  },
  {
   "cell_type": "code",
   "execution_count": null,
   "metadata": {},
   "outputs": [],
   "source": [
    "for feat, lbe in label_encoders.items():\n",
    "    test_set[feat] = lbe.transform(test_set[feat])"
   ]
  },
  {
   "cell_type": "code",
   "execution_count": null,
   "metadata": {},
   "outputs": [],
   "source": [
    "  \n",
    "sparse_features = [\"subsr\", \"content_id\",\"ct_cl\", \"genre_of_ct_cl\",\"TimeGroup\"] + all_genre_list\n",
    "    # Count #unique features for each sparse field\n",
    "fixlen_feature_columns = [SparseFeat(feat, data[feat].nunique())\n",
    "                              for feat in sparse_features]\n",
    "\n",
    " # DeepFM linear_feature 설정\n",
    "\n",
    "linear_feature_columns = fixlen_feature_columns\n",
    "    # DeepFM dnn_feature 설정\n",
    "dnn_feature_columns = fixlen_feature_columns\n",
    "\n",
    "\n",
    "feature_names = get_feature_names(linear_feature_columns + dnn_feature_columns)\n",
    "\n",
    "test_model_input = {name: test_set[name] for name in feature_names}"
   ]
  },
  {
   "cell_type": "code",
   "execution_count": null,
   "metadata": {},
   "outputs": [],
   "source": [
    "pred_ans = model.predict(test_model_input,batch_size=256)\n",
    "pred_labels = (pred_ans > 0.5).astype(int)"
   ]
  },
  {
   "cell_type": "code",
   "execution_count": null,
   "metadata": {},
   "outputs": [],
   "source": [
    "result_df = test_set[['subsr', 'content_id','liked']].copy()\n",
    "result_df['predicted_liked'] = pred_labels\n",
    "result_df['predicted_rate'] = pred_ans\n",
    "result_df.reset_index(drop=True,inplace=True)\n",
    "result_df"
   ]
  }
 ],
 "metadata": {
  "language_info": {
   "name": "python"
  }
 },
 "nbformat": 4,
 "nbformat_minor": 2
}
